{
 "cells": [
  {
   "cell_type": "code",
   "execution_count": 1,
   "id": "93316abd",
   "metadata": {},
   "outputs": [],
   "source": [
    "import pandas as pd\n",
    "from datetime import datetime"
   ]
  },
  {
   "cell_type": "code",
   "execution_count": 2,
   "id": "6f6e3407",
   "metadata": {},
   "outputs": [
    {
     "name": "stdout",
     "output_type": "stream",
     "text": [
      "Index(['Stock name', 'Quantity', 'Buy date', 'Buy price', 'Buy value',\n",
      "       'Sell date', 'Sell price', 'Sell value', 'Realised P&L'],\n",
      "      dtype='object')\n"
     ]
    }
   ],
   "source": [
    "df = pd.read_csv('data.csv',usecols=[\"Stock name\",\"Quantity\",\"Buy date\",\"Buy price\",\"Buy value\",\"Sell date\",\"Sell price\",\"Sell value\",\"Realised P&L\"])\n",
    "print(df.columns)"
   ]
  },
  {
   "cell_type": "code",
   "execution_count": 3,
   "id": "6ad547af",
   "metadata": {},
   "outputs": [
    {
     "data": {
      "text/html": [
       "<div>\n",
       "<style scoped>\n",
       "    .dataframe tbody tr th:only-of-type {\n",
       "        vertical-align: middle;\n",
       "    }\n",
       "\n",
       "    .dataframe tbody tr th {\n",
       "        vertical-align: top;\n",
       "    }\n",
       "\n",
       "    .dataframe thead th {\n",
       "        text-align: right;\n",
       "    }\n",
       "</style>\n",
       "<table border=\"1\" class=\"dataframe\">\n",
       "  <thead>\n",
       "    <tr style=\"text-align: right;\">\n",
       "      <th></th>\n",
       "      <th>Stock name</th>\n",
       "      <th>Quantity</th>\n",
       "      <th>Buy date</th>\n",
       "      <th>Buy price</th>\n",
       "      <th>Buy value</th>\n",
       "      <th>Sell date</th>\n",
       "      <th>Sell price</th>\n",
       "      <th>Sell value</th>\n",
       "      <th>Realised P&amp;L</th>\n",
       "    </tr>\n",
       "  </thead>\n",
       "  <tbody>\n",
       "    <tr>\n",
       "      <th>0</th>\n",
       "      <td>RITES LIMITED</td>\n",
       "      <td>2</td>\n",
       "      <td>04-06-2024</td>\n",
       "      <td>635.0</td>\n",
       "      <td>1270.0</td>\n",
       "      <td>14-06-2024</td>\n",
       "      <td>705.0</td>\n",
       "      <td>1410.0</td>\n",
       "      <td>140.0</td>\n",
       "    </tr>\n",
       "    <tr>\n",
       "      <th>1</th>\n",
       "      <td>RAIL VIKAS NIGAM LIMITED</td>\n",
       "      <td>10</td>\n",
       "      <td>04-06-2024</td>\n",
       "      <td>350.0</td>\n",
       "      <td>3500.0</td>\n",
       "      <td>21-06-2024</td>\n",
       "      <td>405.0</td>\n",
       "      <td>4050.0</td>\n",
       "      <td>550.0</td>\n",
       "    </tr>\n",
       "    <tr>\n",
       "      <th>2</th>\n",
       "      <td>INDIAN RAILWAY FIN CORP L</td>\n",
       "      <td>5</td>\n",
       "      <td>04-06-2024</td>\n",
       "      <td>174.0</td>\n",
       "      <td>870.0</td>\n",
       "      <td>21-06-2024</td>\n",
       "      <td>179.0</td>\n",
       "      <td>895.0</td>\n",
       "      <td>25.0</td>\n",
       "    </tr>\n",
       "    <tr>\n",
       "      <th>3</th>\n",
       "      <td>ORIENT BELL LIMITED</td>\n",
       "      <td>5</td>\n",
       "      <td>04-06-2024</td>\n",
       "      <td>340.0</td>\n",
       "      <td>1700.0</td>\n",
       "      <td>24-06-2024</td>\n",
       "      <td>383.0</td>\n",
       "      <td>1915.0</td>\n",
       "      <td>215.0</td>\n",
       "    </tr>\n",
       "    <tr>\n",
       "      <th>4</th>\n",
       "      <td>ONE 97 COMMUNICATIONS LTD</td>\n",
       "      <td>2</td>\n",
       "      <td>04-06-2024</td>\n",
       "      <td>357.4</td>\n",
       "      <td>714.8</td>\n",
       "      <td>26-06-2024</td>\n",
       "      <td>408.0</td>\n",
       "      <td>816.0</td>\n",
       "      <td>101.2</td>\n",
       "    </tr>\n",
       "  </tbody>\n",
       "</table>\n",
       "</div>"
      ],
      "text/plain": [
       "                  Stock name  Quantity    Buy date  Buy price  Buy value  \\\n",
       "0              RITES LIMITED         2  04-06-2024      635.0     1270.0   \n",
       "1   RAIL VIKAS NIGAM LIMITED        10  04-06-2024      350.0     3500.0   \n",
       "2  INDIAN RAILWAY FIN CORP L         5  04-06-2024      174.0      870.0   \n",
       "3        ORIENT BELL LIMITED         5  04-06-2024      340.0     1700.0   \n",
       "4  ONE 97 COMMUNICATIONS LTD         2  04-06-2024      357.4      714.8   \n",
       "\n",
       "    Sell date  Sell price  Sell value  Realised P&L  \n",
       "0  14-06-2024       705.0      1410.0         140.0  \n",
       "1  21-06-2024       405.0      4050.0         550.0  \n",
       "2  21-06-2024       179.0       895.0          25.0  \n",
       "3  24-06-2024       383.0      1915.0         215.0  \n",
       "4  26-06-2024       408.0       816.0         101.2  "
      ]
     },
     "execution_count": 3,
     "metadata": {},
     "output_type": "execute_result"
    }
   ],
   "source": [
    "df.head()"
   ]
  },
  {
   "cell_type": "code",
   "execution_count": 4,
   "id": "aceddc62",
   "metadata": {},
   "outputs": [
    {
     "data": {
      "text/html": [
       "<div>\n",
       "<style scoped>\n",
       "    .dataframe tbody tr th:only-of-type {\n",
       "        vertical-align: middle;\n",
       "    }\n",
       "\n",
       "    .dataframe tbody tr th {\n",
       "        vertical-align: top;\n",
       "    }\n",
       "\n",
       "    .dataframe thead th {\n",
       "        text-align: right;\n",
       "    }\n",
       "</style>\n",
       "<table border=\"1\" class=\"dataframe\">\n",
       "  <thead>\n",
       "    <tr style=\"text-align: right;\">\n",
       "      <th></th>\n",
       "      <th>Stock name</th>\n",
       "      <th>Quantity</th>\n",
       "      <th>Buy date</th>\n",
       "      <th>Buy price</th>\n",
       "      <th>Buy value</th>\n",
       "      <th>Sell date</th>\n",
       "      <th>Sell price</th>\n",
       "      <th>Sell value</th>\n",
       "      <th>Realised P&amp;L</th>\n",
       "    </tr>\n",
       "  </thead>\n",
       "  <tbody>\n",
       "    <tr>\n",
       "      <th>0</th>\n",
       "      <td>RITES LIMITED</td>\n",
       "      <td>2</td>\n",
       "      <td>2024-06-04</td>\n",
       "      <td>635.0</td>\n",
       "      <td>1270.0</td>\n",
       "      <td>2024-06-14</td>\n",
       "      <td>705.0</td>\n",
       "      <td>1410.0</td>\n",
       "      <td>140.0</td>\n",
       "    </tr>\n",
       "    <tr>\n",
       "      <th>1</th>\n",
       "      <td>RAIL VIKAS NIGAM LIMITED</td>\n",
       "      <td>10</td>\n",
       "      <td>2024-06-04</td>\n",
       "      <td>350.0</td>\n",
       "      <td>3500.0</td>\n",
       "      <td>2024-06-21</td>\n",
       "      <td>405.0</td>\n",
       "      <td>4050.0</td>\n",
       "      <td>550.0</td>\n",
       "    </tr>\n",
       "    <tr>\n",
       "      <th>2</th>\n",
       "      <td>INDIAN RAILWAY FIN CORP L</td>\n",
       "      <td>5</td>\n",
       "      <td>2024-06-04</td>\n",
       "      <td>174.0</td>\n",
       "      <td>870.0</td>\n",
       "      <td>2024-06-21</td>\n",
       "      <td>179.0</td>\n",
       "      <td>895.0</td>\n",
       "      <td>25.0</td>\n",
       "    </tr>\n",
       "    <tr>\n",
       "      <th>3</th>\n",
       "      <td>ORIENT BELL LIMITED</td>\n",
       "      <td>5</td>\n",
       "      <td>2024-06-04</td>\n",
       "      <td>340.0</td>\n",
       "      <td>1700.0</td>\n",
       "      <td>2024-06-24</td>\n",
       "      <td>383.0</td>\n",
       "      <td>1915.0</td>\n",
       "      <td>215.0</td>\n",
       "    </tr>\n",
       "    <tr>\n",
       "      <th>4</th>\n",
       "      <td>ONE 97 COMMUNICATIONS LTD</td>\n",
       "      <td>2</td>\n",
       "      <td>2024-06-04</td>\n",
       "      <td>357.4</td>\n",
       "      <td>714.8</td>\n",
       "      <td>2024-06-26</td>\n",
       "      <td>408.0</td>\n",
       "      <td>816.0</td>\n",
       "      <td>101.2</td>\n",
       "    </tr>\n",
       "  </tbody>\n",
       "</table>\n",
       "</div>"
      ],
      "text/plain": [
       "                  Stock name  Quantity   Buy date  Buy price  Buy value  \\\n",
       "0              RITES LIMITED         2 2024-06-04      635.0     1270.0   \n",
       "1   RAIL VIKAS NIGAM LIMITED        10 2024-06-04      350.0     3500.0   \n",
       "2  INDIAN RAILWAY FIN CORP L         5 2024-06-04      174.0      870.0   \n",
       "3        ORIENT BELL LIMITED         5 2024-06-04      340.0     1700.0   \n",
       "4  ONE 97 COMMUNICATIONS LTD         2 2024-06-04      357.4      714.8   \n",
       "\n",
       "   Sell date  Sell price  Sell value  Realised P&L  \n",
       "0 2024-06-14       705.0      1410.0         140.0  \n",
       "1 2024-06-21       405.0      4050.0         550.0  \n",
       "2 2024-06-21       179.0       895.0          25.0  \n",
       "3 2024-06-24       383.0      1915.0         215.0  \n",
       "4 2024-06-26       408.0       816.0         101.2  "
      ]
     },
     "execution_count": 4,
     "metadata": {},
     "output_type": "execute_result"
    }
   ],
   "source": [
    "df['Buy date'] = pd.to_datetime(df['Buy date'], dayfirst=True, errors='coerce')\n",
    "df['Sell date'] = pd.to_datetime(df['Sell date'], dayfirst=True, errors='coerce')\n",
    "df.head()"
   ]
  },
  {
   "cell_type": "code",
   "execution_count": 5,
   "id": "36b6c954",
   "metadata": {},
   "outputs": [],
   "source": [
    "# Filter only sold trades (Sell date not NaN)\n",
    "df = df.dropna(subset=['Sell date'])"
   ]
  },
  {
   "cell_type": "code",
   "execution_count": 6,
   "id": "12c574d4",
   "metadata": {},
   "outputs": [],
   "source": [
    "df['Holding_Days'] = (df['Sell date'] - df['Buy date']).dt.days\n",
    "\n",
    "# Tag if STCG or LTCG\n",
    "df['Type'] = df['Holding_Days'].apply(lambda x: 'STCG' if x < 365 else 'LTCG')"
   ]
  },
  {
   "cell_type": "code",
   "execution_count": 7,
   "id": "7842e0b8",
   "metadata": {},
   "outputs": [],
   "source": [
    "# Split STCG before/after 23 July 2024\n",
    "split_date = datetime(2024, 7, 23)\n",
    "def applySplitTag(row:pd.DataFrame):\n",
    "    if row[\"Type\"]==\"STCG\" and row[\"Sell date\"]<split_date:\n",
    "        return \"Before_23July\"\n",
    "    elif row[\"Type\"]==\"STCG\" and row[\"Sell date\"]>=split_date:\n",
    "        return \"After_23July\"\n",
    "    else:\n",
    "        return None\n",
    "df['STCG_Period'] = df.apply(applySplitTag,axis=1)"
   ]
  },
  {
   "cell_type": "code",
   "execution_count": 8,
   "id": "7552aff9",
   "metadata": {},
   "outputs": [
    {
     "data": {
      "text/plain": [
       "{'STCG_Before_23July': {'Sell_Value': np.float64(48997.45),\n",
       "  'Buy_Value': np.float64(44225.549999999996),\n",
       "  'Gain': np.float64(4771.9)},\n",
       " 'STCG_After_23July': {'Sell_Value': np.float64(48699.05),\n",
       "  'Buy_Value': np.float64(45264.31),\n",
       "  'Gain': np.float64(3434.74)},\n",
       " 'LTCG': {'Sell_Value': np.float64(0.0),\n",
       "  'Buy_Value': np.float64(0.0),\n",
       "  'Gain': np.float64(0.0)}}"
      ]
     },
     "execution_count": 8,
     "metadata": {},
     "output_type": "execute_result"
    }
   ],
   "source": [
    "# Summary for Schedule CG main table\n",
    "summary = {\n",
    "    'STCG_Before_23July': {\n",
    "        'Sell_Value': df[df['STCG_Period'] == 'Before_23July']['Sell value'].sum(),\n",
    "        'Buy_Value': df[df['STCG_Period'] == 'Before_23July']['Buy value'].sum(),\n",
    "        'Gain': df[df['STCG_Period'] == 'Before_23July']['Realised P&L'].sum()\n",
    "    },\n",
    "    'STCG_After_23July': {\n",
    "        'Sell_Value': df[df['STCG_Period'] == 'After_23July']['Sell value'].sum(),\n",
    "        'Buy_Value': df[df['STCG_Period'] == 'After_23July']['Buy value'].sum(),\n",
    "        'Gain': df[df['STCG_Period'] == 'After_23July']['Realised P&L'].sum()\n",
    "    },\n",
    "    'LTCG': {\n",
    "        'Sell_Value': df[df['Type'] == 'LTCG']['Sell value'].sum(),\n",
    "        'Buy_Value': df[df['Type'] == 'LTCG']['Buy value'].sum(),\n",
    "        'Gain': df[df['Type'] == 'LTCG']['Realised P&L'].sum()\n",
    "    }\n",
    "}\n",
    "summary"
   ]
  },
  {
   "cell_type": "code",
   "execution_count": 9,
   "id": "14c7dc87",
   "metadata": {},
   "outputs": [],
   "source": [
    "# Table F logic (Advance Tax Quarters) → **Only Gains**\n",
    "def get_period(date):\n",
    "    if date <= datetime(2024, 6, 15):\n",
    "        return 'Upto 15/6'\n",
    "    elif date <= datetime(2024, 9, 15):\n",
    "        return '16/6-15/9'\n",
    "    elif date <= datetime(2024, 12, 15):\n",
    "        return '16/9-15/12'\n",
    "    elif date <= datetime(2025, 3, 15):\n",
    "        return '16/12-15/3'\n",
    "    else:\n",
    "        return '16/3-31/3'\n",
    "\n",
    "df['Tax_Period'] = df['Sell date'].apply(get_period)"
   ]
  },
  {
   "cell_type": "code",
   "execution_count": 10,
   "id": "0b43288f",
   "metadata": {},
   "outputs": [],
   "source": [
    "# Group STCG before/after July for Table F (Gains)\n",
    "tableF_15 = df[df['STCG_Period'] == 'Before_23July'].groupby('Tax_Period')['Realised P&L'].sum().to_dict()\n",
    "tableF_20 = df[df['STCG_Period'] == 'After_23July'].groupby('Tax_Period')['Realised P&L'].sum().to_dict()"
   ]
  },
  {
   "cell_type": "code",
   "execution_count": 11,
   "id": "c787d76c",
   "metadata": {},
   "outputs": [
    {
     "name": "stdout",
     "output_type": "stream",
     "text": [
      "\n",
      "=== Summary for Schedule CG ===\n",
      "{'STCG_Before_23July': {'Sell_Value': np.float64(48997.45), 'Buy_Value': np.float64(44225.549999999996), 'Gain': np.float64(4771.9)}, 'STCG_After_23July': {'Sell_Value': np.float64(48699.05), 'Buy_Value': np.float64(45264.31), 'Gain': np.float64(3434.74)}, 'LTCG': {'Sell_Value': np.float64(0.0), 'Buy_Value': np.float64(0.0), 'Gain': np.float64(0.0)}}\n",
      "\n",
      "=== Table F (15%) ===\n",
      "{'16/6-15/9': 3424.95, 'Upto 15/6': 1346.95}\n",
      "\n",
      "=== Table F (20%) ===\n",
      "{'16/6-15/9': 2493.55, '16/9-15/12': 941.19}\n",
      "\n",
      "=== Totals for BFLA ===\n",
      "15% Gain Total: 4771.9\n",
      "20% Gain Total: 3434.74\n",
      "LTCG Total: 0.0\n"
     ]
    }
   ],
   "source": [
    "# Final Output\n",
    "print(\"\\n=== Summary for Schedule CG ===\")\n",
    "print(summary)\n",
    "print(\"\\n=== Table F (15%) ===\")\n",
    "print(tableF_15)\n",
    "print(\"\\n=== Table F (20%) ===\")\n",
    "print(tableF_20)\n",
    "\n",
    "# Totals for BFLA validation\n",
    "print(\"\\n=== Totals for BFLA ===\")\n",
    "print(f\"15% Gain Total: {summary['STCG_Before_23July']['Gain']}\")\n",
    "print(f\"20% Gain Total: {summary['STCG_After_23July']['Gain']}\")\n",
    "print(f\"LTCG Total: {summary['LTCG']['Gain']}\")"
   ]
  }
 ],
 "metadata": {
  "kernelspec": {
   "display_name": "Python 3",
   "language": "python",
   "name": "python3"
  },
  "language_info": {
   "codemirror_mode": {
    "name": "ipython",
    "version": 3
   },
   "file_extension": ".py",
   "mimetype": "text/x-python",
   "name": "python",
   "nbconvert_exporter": "python",
   "pygments_lexer": "ipython3",
   "version": "3.9.9"
  }
 },
 "nbformat": 4,
 "nbformat_minor": 5
}
